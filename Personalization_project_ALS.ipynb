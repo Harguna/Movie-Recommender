{
  "nbformat": 4,
  "nbformat_minor": 0,
  "metadata": {
    "colab": {
      "name": "Personalization_project_ALS.ipynb",
      "provenance": []
    },
    "kernelspec": {
      "name": "python3",
      "display_name": "Python 3"
    },
    "accelerator": "GPU"
  },
  "cells": [
    {
      "cell_type": "markdown",
      "metadata": {
        "id": "pjz_S97bYAXG",
        "colab_type": "text"
      },
      "source": [
        "## Team Name: MovieBuddy\n",
        "## Team Members: \n",
        "## UNI: hs3151 Name: Harguna Sood\n",
        "## UNI: hj2533 Name: Hritik Jain\n",
        "## UNI: sk4661 Name: Sachit Kumar\n",
        "## UNI: sv609  Name: Siddhanth Vinay"
      ]
    },
    {
      "cell_type": "markdown",
      "metadata": {
        "id": "aSjCuEJQ8S9b",
        "colab_type": "text"
      },
      "source": [
        "## Required packages - pyspark, pandas, seaborn, matplotlib \n",
        "## Commented code was for running the code on google colab"
      ]
    },
    {
      "cell_type": "markdown",
      "metadata": {
        "id": "P_CRxmpk0hz1",
        "colab_type": "text"
      },
      "source": [
        "## In this notebook, we will build and evaluate ALS models using Spark ML to make recommendations to users."
      ]
    },
    {
      "cell_type": "code",
      "metadata": {
        "id": "HGcJKRXvQbf1",
        "colab_type": "code",
        "colab": {}
      },
      "source": [
        "#!apt-get install openjdk-8-jdk-headless -qq > /dev/null"
      ],
      "execution_count": 0,
      "outputs": []
    },
    {
      "cell_type": "code",
      "metadata": {
        "id": "s5Bfrvbym5Wk",
        "colab_type": "code",
        "colab": {}
      },
      "source": [
        "#!wget -q http://mirrors.viethosting.com/apache/spark/spark-2.4.4/spark-2.4.4-bin-hadoop2.7.tgz"
      ],
      "execution_count": 0,
      "outputs": []
    },
    {
      "cell_type": "code",
      "metadata": {
        "id": "wjFWhtDSoGkq",
        "colab_type": "code",
        "colab": {}
      },
      "source": [
        "#!tar xf spark-2.4.4-bin-hadoop2.7.tgz"
      ],
      "execution_count": 0,
      "outputs": []
    },
    {
      "cell_type": "code",
      "metadata": {
        "id": "Zxr9XvjtoI01",
        "colab_type": "code",
        "colab": {}
      },
      "source": [
        "#!pip install -q findspark"
      ],
      "execution_count": 0,
      "outputs": []
    },
    {
      "cell_type": "code",
      "metadata": {
        "id": "swJlmTo2Qfqb",
        "colab_type": "code",
        "colab": {}
      },
      "source": [
        "# import os\n",
        "# os.environ[\"JAVA_HOME\"] = \"/usr/lib/jvm/java-8-openjdk-amd64\"\n",
        "# os.environ[\"SPARK_HOME\"] = \"/content/spark-2.4.4-bin-hadoop2.7\""
      ],
      "execution_count": 0,
      "outputs": []
    },
    {
      "cell_type": "code",
      "metadata": {
        "id": "zFeSZgarQlTB",
        "colab_type": "code",
        "colab": {}
      },
      "source": [
        "# import findspark\n",
        "# findspark.init()\n",
        "# from pyspark.sql import SparkSession\n",
        "# spark = SparkSession.builder.master(\"local[*]\").getOrCreate()"
      ],
      "execution_count": 0,
      "outputs": []
    },
    {
      "cell_type": "code",
      "metadata": {
        "id": "ZClH5ltHH07y",
        "colab_type": "code",
        "colab": {}
      },
      "source": [
        "import pyspark\n",
        "from pyspark.sql import *\n",
        "from pyspark.sql.functions import *"
      ],
      "execution_count": 0,
      "outputs": []
    },
    {
      "cell_type": "code",
      "metadata": {
        "id": "DLgtDtegG2ZV",
        "colab_type": "code",
        "outputId": "318d50d6-ea67-4022-df43-4e1ac706da3d",
        "colab": {
          "base_uri": "https://localhost:8080/",
          "height": 35
        }
      },
      "source": [
        "# # Load the Drive helper and mount\n",
        "# from google.colab import drive\n",
        "\n",
        "# # This will prompt for authorization.\n",
        "# drive.mount('/content/drive')"
      ],
      "execution_count": 0,
      "outputs": [
        {
          "output_type": "stream",
          "text": [
            "Drive already mounted at /content/drive; to attempt to forcibly remount, call drive.mount(\"/content/drive\", force_remount=True).\n"
          ],
          "name": "stdout"
        }
      ]
    },
    {
      "cell_type": "code",
      "metadata": {
        "id": "ODPFnZ-QkPFh",
        "colab_type": "code",
        "colab": {}
      },
      "source": [
        "import pandas as pd"
      ],
      "execution_count": 0,
      "outputs": []
    },
    {
      "cell_type": "code",
      "metadata": {
        "id": "pXP5UdVbI4zF",
        "colab_type": "code",
        "colab": {}
      },
      "source": [
        "ratings = spark.read.csv('data/ratings.csv',sep=',', inferSchema = True, header = True)\n",
        "movies = spark.read.csv('data/movies.csv',sep=',', inferSchema = True, header = True)"
      ],
      "execution_count": 0,
      "outputs": []
    },
    {
      "cell_type": "code",
      "metadata": {
        "id": "xLR4njswMbAf",
        "colab_type": "code",
        "colab": {}
      },
      "source": [
        "#Create a separate row for each genre of a movie.\n",
        "movies1  = movies.na.drop()\n",
        "movies1 = movies1.withColumn('genres',explode(split('genres','\\|')))"
      ],
      "execution_count": 0,
      "outputs": []
    },
    {
      "cell_type": "markdown",
      "metadata": {
        "id": "1dvpgrFAfMsT",
        "colab_type": "text"
      },
      "source": [
        "## We first load our ratings sample"
      ]
    },
    {
      "cell_type": "code",
      "metadata": {
        "id": "J7xuZ3GmVGRz",
        "colab_type": "code",
        "colab": {}
      },
      "source": [
        "sampled_ratings =  spark.read.csv('data/final_sample.csv',sep=',', inferSchema = True, header = True)"
      ],
      "execution_count": 0,
      "outputs": []
    },
    {
      "cell_type": "code",
      "metadata": {
        "id": "hPSkfOyNV8V6",
        "colab_type": "code",
        "outputId": "3c66e284-10b5-486c-998c-75b34c548436",
        "colab": {
          "base_uri": "https://localhost:8080/",
          "height": 498
        }
      },
      "source": [
        "sampled_ratings.show(truncate=False)"
      ],
      "execution_count": 0,
      "outputs": [
        {
          "output_type": "stream",
          "text": [
            "+------+-------+------+----------+-------------+---+-------------+\n",
            "|userId|movieId|rating|timestamp |rating_counts|bin|title        |\n",
            "+------+-------+------+----------+-------------+---+-------------+\n",
            "|1     |223    |4.0   |1112485573|21371        |5  |Clerks (1994)|\n",
            "|16    |223    |3.0   |990969977 |21371        |5  |Clerks (1994)|\n",
            "|21    |223    |3.0   |992190271 |21371        |5  |Clerks (1994)|\n",
            "|23    |223    |5.0   |914457912 |21371        |5  |Clerks (1994)|\n",
            "|24    |223    |5.0   |993973215 |21371        |5  |Clerks (1994)|\n",
            "|25    |223    |4.5   |1277963771|21371        |5  |Clerks (1994)|\n",
            "|40    |223    |1.0   |940852884 |21371        |5  |Clerks (1994)|\n",
            "|46    |223    |5.0   |846354925 |21371        |5  |Clerks (1994)|\n",
            "|48    |223    |3.0   |850710827 |21371        |5  |Clerks (1994)|\n",
            "|54    |223    |5.0   |974840217 |21371        |5  |Clerks (1994)|\n",
            "|56    |223    |4.0   |967230562 |21371        |5  |Clerks (1994)|\n",
            "|58    |223    |4.5   |1144058646|21371        |5  |Clerks (1994)|\n",
            "|66    |223    |5.0   |940421999 |21371        |5  |Clerks (1994)|\n",
            "|69    |223    |3.0   |866812438 |21371        |5  |Clerks (1994)|\n",
            "|82    |223    |4.5   |1317332568|21371        |5  |Clerks (1994)|\n",
            "|91    |223    |1.5   |1121673679|21371        |5  |Clerks (1994)|\n",
            "|100   |223    |4.0   |835720262 |21371        |5  |Clerks (1994)|\n",
            "|108   |223    |3.0   |836570917 |21371        |5  |Clerks (1994)|\n",
            "|116   |223    |3.5   |1132761805|21371        |5  |Clerks (1994)|\n",
            "|133   |223    |4.0   |1397183082|21371        |5  |Clerks (1994)|\n",
            "+------+-------+------+----------+-------------+---+-------------+\n",
            "only showing top 20 rows\n",
            "\n"
          ],
          "name": "stdout"
        }
      ]
    },
    {
      "cell_type": "code",
      "metadata": {
        "id": "l3dzLi8hVRpt",
        "colab_type": "code",
        "colab": {}
      },
      "source": [
        "from pyspark.ml.evaluation import RegressionEvaluator\n",
        "from pyspark.mllib.evaluation import RankingMetrics\n",
        "from pyspark.ml.recommendation import ALS\n",
        "from pyspark.sql import Row"
      ],
      "execution_count": 0,
      "outputs": []
    },
    {
      "cell_type": "markdown",
      "metadata": {
        "id": "-5i9_qajYHhM",
        "colab_type": "text"
      },
      "source": [
        "## Please change the checkpoint directory accordingly so that the code can run for more than 20 iterations."
      ]
    },
    {
      "cell_type": "code",
      "metadata": {
        "id": "q1sHvpLCVZII",
        "colab_type": "code",
        "colab": {}
      },
      "source": [
        "spark.sparkContext.setCheckpointDir(\"data/personalization_checkpoint/\")"
      ],
      "execution_count": 0,
      "outputs": []
    },
    {
      "cell_type": "markdown",
      "metadata": {
        "id": "W83JPz8d8q62",
        "colab_type": "text"
      },
      "source": [
        "## Running a grid search to find the best values for RegParam and Rank"
      ]
    },
    {
      "cell_type": "code",
      "metadata": {
        "id": "G37-jr_-h28Z",
        "colab_type": "code",
        "outputId": "4d9dd45c-1eae-4685-e6b4-9749c33b09e8",
        "colab": {
          "base_uri": "https://localhost:8080/",
          "height": 239
        }
      },
      "source": [
        "regParams = [0.002,0.02,0.2,2]\n",
        "ranks = [5,10,20]\n",
        "\n",
        "l1= []\n",
        "\n",
        "for j in regParams:\n",
        "  for k in ranks:\n",
        "    als = ALS(maxIter=10, regParam=j, rank = k, userCol=\"userId\", itemCol=\"movieId\", ratingCol=\"rating\",\n",
        "          coldStartStrategy=\"drop\", nonnegative=True)\n",
        "    model = als.fit(training)\n",
        "      # Evaluate the model by computing the R2 on the test data\n",
        "    predictions = model.transform(test)\n",
        "    evaluator = RegressionEvaluator(metricName=\"r2\", labelCol=\"rating\",\n",
        "                                predictionCol=\"prediction\")\n",
        "    evaluator1 = RegressionEvaluator(metricName=\"mae\", labelCol=\"rating\",\n",
        "                                predictionCol=\"prediction\")\n",
        "    r2 = evaluator.evaluate(predictions)\n",
        "    mae = evaluator1.evaluate(predictions)\n",
        "    l1.append([j,k,r2,mae])\n",
        "    print(j,k,r2,mae)      \n",
        "\n"
      ],
      "execution_count": 0,
      "outputs": [
        {
          "output_type": "stream",
          "text": [
            "0.002 5 0.13490590848099548 0.7360127221551083\n",
            "0.002 10 -0.031973435324738064 0.8012988686348284\n",
            "0.002 20 -0.1824427769502075 0.8555652793264428\n",
            "0.02 5 0.14645003577934612 0.7369850517812916\n",
            "0.02 10 -0.029836895433559052 0.8064259701303281\n",
            "0.02 20 -0.20138325809607016 0.8753088291878972\n",
            "0.2 5 0.2833335048682063 0.6914217820812818\n",
            "0.2 10 0.28732042147648873 0.6897291804873399\n",
            "0.2 20 0.2826523268820137 0.693399138649072\n",
            "2 5 -3.357188952851133 2.0064790414353753\n",
            "2 10 -3.357188972348821 2.0064790465227995\n",
            "2 20 -3.357188955650095 2.0064790423889303\n"
          ],
          "name": "stdout"
        }
      ]
    },
    {
      "cell_type": "code",
      "metadata": {
        "id": "9BdLXXA5hDdL",
        "colab_type": "code",
        "colab": {}
      },
      "source": [
        "import pandas as pd\n",
        "import seaborn as sns\n",
        "import matplotlib.pyplot as plt\n",
        "sns.set(style=\"ticks\", color_codes=True)"
      ],
      "execution_count": 0,
      "outputs": []
    },
    {
      "cell_type": "code",
      "metadata": {
        "id": "IpbaF8ifyuoF",
        "colab_type": "code",
        "outputId": "4bb0d1c4-cfdc-4c89-d719-cbb0f7dba515",
        "colab": {
          "base_uri": "https://localhost:8080/",
          "height": 426
        }
      },
      "source": [
        "df = pd.DataFrame(l1, columns = ['RegParam' , 'Rank', 'R2','MAE'])\n",
        "df.head(12)"
      ],
      "execution_count": 0,
      "outputs": [
        {
          "output_type": "execute_result",
          "data": {
            "text/html": [
              "<div>\n",
              "<style scoped>\n",
              "    .dataframe tbody tr th:only-of-type {\n",
              "        vertical-align: middle;\n",
              "    }\n",
              "\n",
              "    .dataframe tbody tr th {\n",
              "        vertical-align: top;\n",
              "    }\n",
              "\n",
              "    .dataframe thead th {\n",
              "        text-align: right;\n",
              "    }\n",
              "</style>\n",
              "<table border=\"1\" class=\"dataframe\">\n",
              "  <thead>\n",
              "    <tr style=\"text-align: right;\">\n",
              "      <th></th>\n",
              "      <th>RegParam</th>\n",
              "      <th>Rank</th>\n",
              "      <th>R2</th>\n",
              "      <th>MAE</th>\n",
              "    </tr>\n",
              "  </thead>\n",
              "  <tbody>\n",
              "    <tr>\n",
              "      <th>0</th>\n",
              "      <td>0.002</td>\n",
              "      <td>5</td>\n",
              "      <td>0.134906</td>\n",
              "      <td>0.736013</td>\n",
              "    </tr>\n",
              "    <tr>\n",
              "      <th>1</th>\n",
              "      <td>0.002</td>\n",
              "      <td>10</td>\n",
              "      <td>-0.031973</td>\n",
              "      <td>0.801299</td>\n",
              "    </tr>\n",
              "    <tr>\n",
              "      <th>2</th>\n",
              "      <td>0.002</td>\n",
              "      <td>20</td>\n",
              "      <td>-0.182443</td>\n",
              "      <td>0.855565</td>\n",
              "    </tr>\n",
              "    <tr>\n",
              "      <th>3</th>\n",
              "      <td>0.020</td>\n",
              "      <td>5</td>\n",
              "      <td>0.146450</td>\n",
              "      <td>0.736985</td>\n",
              "    </tr>\n",
              "    <tr>\n",
              "      <th>4</th>\n",
              "      <td>0.020</td>\n",
              "      <td>10</td>\n",
              "      <td>-0.029837</td>\n",
              "      <td>0.806426</td>\n",
              "    </tr>\n",
              "    <tr>\n",
              "      <th>5</th>\n",
              "      <td>0.020</td>\n",
              "      <td>20</td>\n",
              "      <td>-0.201383</td>\n",
              "      <td>0.875309</td>\n",
              "    </tr>\n",
              "    <tr>\n",
              "      <th>6</th>\n",
              "      <td>0.200</td>\n",
              "      <td>5</td>\n",
              "      <td>0.283334</td>\n",
              "      <td>0.691422</td>\n",
              "    </tr>\n",
              "    <tr>\n",
              "      <th>7</th>\n",
              "      <td>0.200</td>\n",
              "      <td>10</td>\n",
              "      <td>0.287320</td>\n",
              "      <td>0.689729</td>\n",
              "    </tr>\n",
              "    <tr>\n",
              "      <th>8</th>\n",
              "      <td>0.200</td>\n",
              "      <td>20</td>\n",
              "      <td>0.282652</td>\n",
              "      <td>0.693399</td>\n",
              "    </tr>\n",
              "    <tr>\n",
              "      <th>9</th>\n",
              "      <td>2.000</td>\n",
              "      <td>5</td>\n",
              "      <td>-3.357189</td>\n",
              "      <td>2.006479</td>\n",
              "    </tr>\n",
              "    <tr>\n",
              "      <th>10</th>\n",
              "      <td>2.000</td>\n",
              "      <td>10</td>\n",
              "      <td>-3.357189</td>\n",
              "      <td>2.006479</td>\n",
              "    </tr>\n",
              "    <tr>\n",
              "      <th>11</th>\n",
              "      <td>2.000</td>\n",
              "      <td>20</td>\n",
              "      <td>-3.357189</td>\n",
              "      <td>2.006479</td>\n",
              "    </tr>\n",
              "  </tbody>\n",
              "</table>\n",
              "</div>"
            ],
            "text/plain": [
              "    RegParam  Rank        R2       MAE\n",
              "0      0.002     5  0.134906  0.736013\n",
              "1      0.002    10 -0.031973  0.801299\n",
              "2      0.002    20 -0.182443  0.855565\n",
              "3      0.020     5  0.146450  0.736985\n",
              "4      0.020    10 -0.029837  0.806426\n",
              "5      0.020    20 -0.201383  0.875309\n",
              "6      0.200     5  0.283334  0.691422\n",
              "7      0.200    10  0.287320  0.689729\n",
              "8      0.200    20  0.282652  0.693399\n",
              "9      2.000     5 -3.357189  2.006479\n",
              "10     2.000    10 -3.357189  2.006479\n",
              "11     2.000    20 -3.357189  2.006479"
            ]
          },
          "metadata": {
            "tags": []
          },
          "execution_count": 183
        }
      ]
    },
    {
      "cell_type": "code",
      "metadata": {
        "id": "5ZIElrqRMFqD",
        "colab_type": "code",
        "outputId": "56742fb5-c041-4b91-f30a-7c15106e32ac",
        "colab": {
          "base_uri": "https://localhost:8080/",
          "height": 383
        }
      },
      "source": [
        "sns.catplot(x=\"RegParam\", y=\"R2\", hue=\"Rank\", kind=\"swarm\", data=df)"
      ],
      "execution_count": 0,
      "outputs": [
        {
          "output_type": "execute_result",
          "data": {
            "text/plain": [
              "<seaborn.axisgrid.FacetGrid at 0x7fbaefc5e4e0>"
            ]
          },
          "metadata": {
            "tags": []
          },
          "execution_count": 184
        },
        {
          "output_type": "display_data",
          "data": {
            "image/png": "[encoded data removed]",
            "text/plain": [
              "<Figure size 413.6x360 with 1 Axes>"
            ]
          },
          "metadata": {
            "tags": []
          }
        }
      ]
    },
    {
      "cell_type": "markdown",
      "metadata": {
        "id": "vpmaixpQj9cK",
        "colab_type": "text"
      },
      "source": [
        "### From the data and the plots, we can see that RegParam = 0.2 and Rank = 10 gave us the best results"
      ]
    },
    {
      "cell_type": "markdown",
      "metadata": {
        "id": "yFa03FfI88_N",
        "colab_type": "text"
      },
      "source": [
        "## Since doing gridsearch on all combinations was unfeasible, we did a first gridsearch to find the best RegParam and Rank combination and will now find the best MaxIter value for that RegParam, Rank combination."
      ]
    },
    {
      "cell_type": "code",
      "metadata": {
        "id": "6zk5fLg1j04t",
        "colab_type": "code",
        "outputId": "591567f7-ed2b-40e5-860d-b361c29c2177",
        "colab": {
          "base_uri": "https://localhost:8080/",
          "height": 91
        }
      },
      "source": [
        "iterations = [5,10,20,50]\n",
        "iter_search = []\n",
        "for k in iterations:\n",
        "    als = ALS(maxIter=k, regParam=0.2, rank = 10, userCol=\"userId\", itemCol=\"movieId\", ratingCol=\"rating\",\n",
        "          coldStartStrategy=\"drop\", nonnegative=True)\n",
        "    model = als.fit(training)\n",
        "      # Evaluate the model by computing the R2 on the test data\n",
        "    predictions = model.transform(test)\n",
        "    evaluator = RegressionEvaluator(metricName=\"r2\", labelCol=\"rating\",\n",
        "                                predictionCol=\"prediction\")\n",
        "    evaluator1 = RegressionEvaluator(metricName=\"mae\", labelCol=\"rating\",\n",
        "                                predictionCol=\"prediction\")\n",
        "    r2 = evaluator.evaluate(predictions)\n",
        "    mae = evaluator1.evaluate(predictions)\n",
        "    iter_search.append([k,r2,mae])\n",
        "    print(k,r2,mae)      "
      ],
      "execution_count": 0,
      "outputs": [
        {
          "output_type": "stream",
          "text": [
            "5 0.29182074110021994 0.6834456567454458\n",
            "10 0.28732042147648873 0.6897291804873399\n",
            "20 0.281275477699494 0.6947792616749608\n",
            "50 0.28066562461616984 0.6953180141492316\n"
          ],
          "name": "stdout"
        }
      ]
    },
    {
      "cell_type": "code",
      "metadata": {
        "id": "m7SF6fCumUEB",
        "colab_type": "code",
        "outputId": "2437aa02-46bf-4f4f-ed88-c6b963bf5d88",
        "colab": {
          "base_uri": "https://localhost:8080/",
          "height": 175
        }
      },
      "source": [
        "df_iter = pd.DataFrame(iter_search, columns = ['Iterations', 'R2','MAE'])\n",
        "df_iter.head()"
      ],
      "execution_count": 0,
      "outputs": [
        {
          "output_type": "execute_result",
          "data": {
            "text/html": [
              "<div>\n",
              "<style scoped>\n",
              "    .dataframe tbody tr th:only-of-type {\n",
              "        vertical-align: middle;\n",
              "    }\n",
              "\n",
              "    .dataframe tbody tr th {\n",
              "        vertical-align: top;\n",
              "    }\n",
              "\n",
              "    .dataframe thead th {\n",
              "        text-align: right;\n",
              "    }\n",
              "</style>\n",
              "<table border=\"1\" class=\"dataframe\">\n",
              "  <thead>\n",
              "    <tr style=\"text-align: right;\">\n",
              "      <th></th>\n",
              "      <th>Iterations</th>\n",
              "      <th>R2</th>\n",
              "      <th>MAE</th>\n",
              "    </tr>\n",
              "  </thead>\n",
              "  <tbody>\n",
              "    <tr>\n",
              "      <th>0</th>\n",
              "      <td>5</td>\n",
              "      <td>0.291821</td>\n",
              "      <td>0.683446</td>\n",
              "    </tr>\n",
              "    <tr>\n",
              "      <th>1</th>\n",
              "      <td>10</td>\n",
              "      <td>0.287320</td>\n",
              "      <td>0.689729</td>\n",
              "    </tr>\n",
              "    <tr>\n",
              "      <th>2</th>\n",
              "      <td>20</td>\n",
              "      <td>0.281275</td>\n",
              "      <td>0.694779</td>\n",
              "    </tr>\n",
              "    <tr>\n",
              "      <th>3</th>\n",
              "      <td>50</td>\n",
              "      <td>0.280666</td>\n",
              "      <td>0.695318</td>\n",
              "    </tr>\n",
              "  </tbody>\n",
              "</table>\n",
              "</div>"
            ],
            "text/plain": [
              "   Iterations        R2       MAE\n",
              "0           5  0.291821  0.683446\n",
              "1          10  0.287320  0.689729\n",
              "2          20  0.281275  0.694779\n",
              "3          50  0.280666  0.695318"
            ]
          },
          "metadata": {
            "tags": []
          },
          "execution_count": 197
        }
      ]
    },
    {
      "cell_type": "markdown",
      "metadata": {
        "id": "GrczMxxU9Hkv",
        "colab_type": "text"
      },
      "source": [
        "### The best results were given when ALS ran for 5 iterations. "
      ]
    },
    {
      "cell_type": "markdown",
      "metadata": {
        "id": "UYqDXbjOl4nq",
        "colab_type": "text"
      },
      "source": [
        "## We assume that this is the best combination of hyperparameters and that the best combination will not change when we do k-fold cross validation (due to unfeasibility of running k-fold for each grid search parameter). "
      ]
    },
    {
      "cell_type": "code",
      "metadata": {
        "id": "sCzSI9ynm6yM",
        "colab_type": "code",
        "colab": {}
      },
      "source": [
        "sub_1, sub_2, sub_3, sub_4, sub_5 = sampled_ratings.randomSplit([0.2, 0.2, 0.2, 0.2, 0.2])"
      ],
      "execution_count": 0,
      "outputs": []
    },
    {
      "cell_type": "code",
      "metadata": {
        "id": "-yujMYTioRI3",
        "colab_type": "code",
        "outputId": "a361040f-84cd-487d-9f4e-4bc31502ad35",
        "colab": {
          "base_uri": "https://localhost:8080/",
          "height": 109
        }
      },
      "source": [
        "eval_list = []\n",
        "for i in range(5):\n",
        "  if i == 0:\n",
        "    training = sub_2.union(sub_3).union(sub_4).union(sub_5)\n",
        "    test = sub_1\n",
        "  elif i == 1:\n",
        "    training = sub_1.union(sub_3).union(sub_4).union(sub_5)\n",
        "    test = sub_2\n",
        "  elif i == 2:\n",
        "    training = sub_1.union(sub_2).union(sub_4).union(sub_5)\n",
        "    test = sub_3\n",
        "  elif i == 3:\n",
        "    training = sub_1.union(sub_2).union(sub_3).union(sub_5)\n",
        "    test = sub_4\n",
        "  elif i == 4:\n",
        "    training = sub_1.union(sub_2).union(sub_3).union(sub_4)\n",
        "    test = sub_5\n",
        "  als = ALS(maxIter=5, regParam=0.2, rank = 10, userCol=\"userId\", itemCol=\"movieId\", ratingCol=\"rating\",\n",
        "          coldStartStrategy=\"drop\", nonnegative=True)\n",
        "  model = als.fit(training)\n",
        "      # Evaluate the model by computing the R2 on the test data\n",
        "  predictions = model.transform(test)\n",
        "  evaluator = RegressionEvaluator(metricName=\"r2\", labelCol=\"rating\",\n",
        "                                predictionCol=\"prediction\")\n",
        "  evaluator1 = RegressionEvaluator(metricName=\"mae\", labelCol=\"rating\",\n",
        "                                predictionCol=\"prediction\") \n",
        "  r2 = evaluator.evaluate(predictions)\n",
        "  mae = evaluator1.evaluate(predictions)\n",
        "  print(i+1,r2,mae)\n",
        "  eval_list.append([r2,mae])"
      ],
      "execution_count": 0,
      "outputs": [
        {
          "output_type": "stream",
          "text": [
            "1 0.28800371379512646 0.6855673575834418\n",
            "2 0.2858201807665737 0.6858847555514855\n",
            "3 0.2850479799918514 0.6891123107990713\n",
            "4 0.2848507208581412 0.6882594708401278\n",
            "5 0.28685958656621535 0.6864943375699118\n"
          ],
          "name": "stdout"
        }
      ]
    },
    {
      "cell_type": "code",
      "metadata": {
        "id": "9YNtFDZTpwXW",
        "colab_type": "code",
        "outputId": "e2a2742e-36a3-448b-b7a0-904bcc10eb00",
        "colab": {
          "base_uri": "https://localhost:8080/",
          "height": 206
        }
      },
      "source": [
        "df_eval = pd.DataFrame(eval_list, columns = ['R2','MAE'])\n",
        "df_eval.head()"
      ],
      "execution_count": 0,
      "outputs": [
        {
          "output_type": "execute_result",
          "data": {
            "text/html": [
              "<div>\n",
              "<style scoped>\n",
              "    .dataframe tbody tr th:only-of-type {\n",
              "        vertical-align: middle;\n",
              "    }\n",
              "\n",
              "    .dataframe tbody tr th {\n",
              "        vertical-align: top;\n",
              "    }\n",
              "\n",
              "    .dataframe thead th {\n",
              "        text-align: right;\n",
              "    }\n",
              "</style>\n",
              "<table border=\"1\" class=\"dataframe\">\n",
              "  <thead>\n",
              "    <tr style=\"text-align: right;\">\n",
              "      <th></th>\n",
              "      <th>R2</th>\n",
              "      <th>MAE</th>\n",
              "    </tr>\n",
              "  </thead>\n",
              "  <tbody>\n",
              "    <tr>\n",
              "      <th>0</th>\n",
              "      <td>0.288004</td>\n",
              "      <td>0.685567</td>\n",
              "    </tr>\n",
              "    <tr>\n",
              "      <th>1</th>\n",
              "      <td>0.285820</td>\n",
              "      <td>0.685885</td>\n",
              "    </tr>\n",
              "    <tr>\n",
              "      <th>2</th>\n",
              "      <td>0.285048</td>\n",
              "      <td>0.689112</td>\n",
              "    </tr>\n",
              "    <tr>\n",
              "      <th>3</th>\n",
              "      <td>0.284851</td>\n",
              "      <td>0.688259</td>\n",
              "    </tr>\n",
              "    <tr>\n",
              "      <th>4</th>\n",
              "      <td>0.286860</td>\n",
              "      <td>0.686494</td>\n",
              "    </tr>\n",
              "  </tbody>\n",
              "</table>\n",
              "</div>"
            ],
            "text/plain": [
              "         R2       MAE\n",
              "0  0.288004  0.685567\n",
              "1  0.285820  0.685885\n",
              "2  0.285048  0.689112\n",
              "3  0.284851  0.688259\n",
              "4  0.286860  0.686494"
            ]
          },
          "metadata": {
            "tags": []
          },
          "execution_count": 200
        }
      ]
    },
    {
      "cell_type": "code",
      "metadata": {
        "id": "pWQFUX3_qNUE",
        "colab_type": "code",
        "outputId": "483a6565-83df-4f2f-b5b5-225cd337780f",
        "colab": {
          "base_uri": "https://localhost:8080/",
          "height": 35
        }
      },
      "source": [
        "mean_r2 = df_eval['R2'].mean()\n",
        "mean_mae = df_eval['MAE'].mean()\n",
        "print(mean_r2,mean_mae)"
      ],
      "execution_count": 0,
      "outputs": [
        {
          "output_type": "stream",
          "text": [
            "0.2861164363955816 0.6870636464688076\n"
          ],
          "name": "stdout"
        }
      ]
    },
    {
      "cell_type": "markdown",
      "metadata": {
        "id": "ZCBPbqrxsA2G",
        "colab_type": "text"
      },
      "source": [
        "## We now consider the top 10 recommendations and try to compute the Catalog Coverage\n"
      ]
    },
    {
      "cell_type": "code",
      "metadata": {
        "id": "mlpDVx2srY4-",
        "colab_type": "code",
        "colab": {}
      },
      "source": [
        "(training, test) = sampled_ratings.randomSplit([0.8, 0.2]) \n",
        "als = ALS(maxIter=5, regParam=0.2, rank = 10, userCol=\"userId\", itemCol=\"movieId\", ratingCol=\"rating\",\n",
        "          coldStartStrategy=\"drop\", nonnegative=True)\n",
        "model = als.fit(training)"
      ],
      "execution_count": 0,
      "outputs": []
    },
    {
      "cell_type": "code",
      "metadata": {
        "id": "bpuW61MpsH7H",
        "colab_type": "code",
        "colab": {}
      },
      "source": [
        "recommendations = model.recommendForAllUsers(10)"
      ],
      "execution_count": 0,
      "outputs": []
    },
    {
      "cell_type": "code",
      "metadata": {
        "id": "9m24yFndscKP",
        "colab_type": "code",
        "colab": {}
      },
      "source": [
        "from pyspark.sql.functions import udf\n",
        "from pyspark.sql.types import *\n",
        "\n",
        "def recommended_movies(recommendations):\n",
        "    movie_ids = [str(i[0]) for i in recommendations]\n",
        "    return ','.join(movie_ids)\n",
        "\n",
        "recommended_movies_udf = udf(recommended_movies, StringType())"
      ],
      "execution_count": 0,
      "outputs": []
    },
    {
      "cell_type": "code",
      "metadata": {
        "id": "5n9eKQ2QtVfQ",
        "colab_type": "code",
        "colab": {}
      },
      "source": [
        "recommendations1 = recommendations.withColumn('movies',recommended_movies_udf(recommendations['recommendations']))"
      ],
      "execution_count": 0,
      "outputs": []
    },
    {
      "cell_type": "code",
      "metadata": {
        "id": "J56-QCOAuAsq",
        "colab_type": "code",
        "colab": {}
      },
      "source": [
        "#Convert the recommendations list to a userId, movieId combination\n",
        "recommendations2 = recommendations1.select('userId','movies')\n",
        "recommendations2 = recommendations2.withColumn('movieId',explode(split('movies',',')))"
      ],
      "execution_count": 0,
      "outputs": []
    },
    {
      "cell_type": "code",
      "metadata": {
        "id": "ETllUBE-ukda",
        "colab_type": "code",
        "colab": {}
      },
      "source": [
        "#Get the list of unique movies in the recommendation\n",
        "unique_movies = recommendations2.select('movieId').dropDuplicates()"
      ],
      "execution_count": 0,
      "outputs": []
    },
    {
      "cell_type": "code",
      "metadata": {
        "id": "f9RCCJKGvc3h",
        "colab_type": "code",
        "colab": {}
      },
      "source": [
        "pd_movies = unique_movies.toPandas()"
      ],
      "execution_count": 0,
      "outputs": []
    },
    {
      "cell_type": "code",
      "metadata": {
        "id": "daz84bFS3_Ju",
        "colab_type": "code",
        "outputId": "6e6d5db6-2708-4c69-9f52-1666ce5bd23d",
        "colab": {
          "base_uri": "https://localhost:8080/",
          "height": 35
        }
      },
      "source": [
        "#Since our sample has 1000 movies, compute coverage as percentage of the 1000 movies that have been recommended\n",
        "print(\"Coverage = \", (len(pd_movies)/1000)*100,\"%\")"
      ],
      "execution_count": 0,
      "outputs": [
        {
          "output_type": "stream",
          "text": [
            "Coverage =  16.8 %\n"
          ],
          "name": "stdout"
        }
      ]
    },
    {
      "cell_type": "markdown",
      "metadata": {
        "id": "I4_zVCdaQa_j",
        "colab_type": "text"
      },
      "source": [
        "### Since our recommendations contains some movies that have already been watched by the user, we remove those movies and then recompute the catalog coverage."
      ]
    },
    {
      "cell_type": "code",
      "metadata": {
        "id": "lTvGQWJsyvzk",
        "colab_type": "code",
        "colab": {}
      },
      "source": [
        "users_movies = training.select('userId','movieId').dropDuplicates()"
      ],
      "execution_count": 0,
      "outputs": []
    },
    {
      "cell_type": "code",
      "metadata": {
        "id": "09y7bWTizGJ9",
        "colab_type": "code",
        "colab": {}
      },
      "source": [
        "recommendations2 = recommendations2.dropDuplicates()"
      ],
      "execution_count": 0,
      "outputs": []
    },
    {
      "cell_type": "code",
      "metadata": {
        "id": "hAECf5WvzsVe",
        "colab_type": "code",
        "colab": {}
      },
      "source": [
        "recommendations3 = recommendations2.select('userId','movieId')\n",
        "recommendations4 = recommendations3.subtract(users_movies)"
      ],
      "execution_count": 0,
      "outputs": []
    },
    {
      "cell_type": "code",
      "metadata": {
        "id": "mO7MrPFaz4ab",
        "colab_type": "code",
        "colab": {}
      },
      "source": [
        "unique_movies_2 = recommendations4.select('movieId').dropDuplicates()"
      ],
      "execution_count": 0,
      "outputs": []
    },
    {
      "cell_type": "code",
      "metadata": {
        "id": "NwoS0ZpAz-KB",
        "colab_type": "code",
        "colab": {}
      },
      "source": [
        "pd_movies_2 = unique_movies_2.toPandas()"
      ],
      "execution_count": 0,
      "outputs": []
    },
    {
      "cell_type": "code",
      "metadata": {
        "id": "Jb0-bKjRz-n1",
        "colab_type": "code",
        "outputId": "2b97244a-e5a1-419e-80ce-073fc9a8560c",
        "colab": {
          "base_uri": "https://localhost:8080/",
          "height": 35
        }
      },
      "source": [
        "print(\"Coverage of unseen movies = \", (len(pd_movies_2)/1000)*100,\"%\")"
      ],
      "execution_count": 0,
      "outputs": [
        {
          "output_type": "stream",
          "text": [
            "Coverage of unseen movies =  16.1 %\n"
          ],
          "name": "stdout"
        }
      ]
    },
    {
      "cell_type": "markdown",
      "metadata": {
        "id": "XwoqpAiV4Tqi",
        "colab_type": "text"
      },
      "source": [
        "### Catalog Coverage is 16.8% when including movies the user has already watched and it reduces to 16.1% when we recommend only new movies to users."
      ]
    },
    {
      "cell_type": "markdown",
      "metadata": {
        "id": "gEjRCjLV1yuX",
        "colab_type": "text"
      },
      "source": [
        "## We now want to see the distribution of the number of ratings for these 161 newly recommended movies (we sampled ratings for 1000 movies)."
      ]
    },
    {
      "cell_type": "code",
      "metadata": {
        "id": "QYvcQwin1KDz",
        "colab_type": "code",
        "colab": {}
      },
      "source": [
        "pd_movies_2['movieId'] = pd.to_numeric(pd_movies_2['movieId'])"
      ],
      "execution_count": 0,
      "outputs": []
    },
    {
      "cell_type": "code",
      "metadata": {
        "id": "SbeW7uGHvyyZ",
        "colab_type": "code",
        "outputId": "61e5a859-9109-45c8-e6c0-8cc4ddad38ab",
        "colab": {
          "base_uri": "https://localhost:8080/",
          "height": 206
        }
      },
      "source": [
        "sampled_pd = sampled_ratings.toPandas()\n",
        "movie_counts = sampled_pd.groupby('movieId').size().reset_index(name='counts')\n",
        "movie_counts.head()"
      ],
      "execution_count": 0,
      "outputs": [
        {
          "output_type": "execute_result",
          "data": {
            "text/html": [
              "<div>\n",
              "<style scoped>\n",
              "    .dataframe tbody tr th:only-of-type {\n",
              "        vertical-align: middle;\n",
              "    }\n",
              "\n",
              "    .dataframe tbody tr th {\n",
              "        vertical-align: top;\n",
              "    }\n",
              "\n",
              "    .dataframe thead th {\n",
              "        text-align: right;\n",
              "    }\n",
              "</style>\n",
              "<table border=\"1\" class=\"dataframe\">\n",
              "  <thead>\n",
              "    <tr style=\"text-align: right;\">\n",
              "      <th></th>\n",
              "      <th>movieId</th>\n",
              "      <th>counts</th>\n",
              "    </tr>\n",
              "  </thead>\n",
              "  <tbody>\n",
              "    <tr>\n",
              "      <th>0</th>\n",
              "      <td>5</td>\n",
              "      <td>10950</td>\n",
              "    </tr>\n",
              "    <tr>\n",
              "      <th>1</th>\n",
              "      <td>19</td>\n",
              "      <td>18877</td>\n",
              "    </tr>\n",
              "    <tr>\n",
              "      <th>2</th>\n",
              "      <td>21</td>\n",
              "      <td>21690</td>\n",
              "    </tr>\n",
              "    <tr>\n",
              "      <th>3</th>\n",
              "      <td>41</td>\n",
              "      <td>4223</td>\n",
              "    </tr>\n",
              "    <tr>\n",
              "      <th>4</th>\n",
              "      <td>45</td>\n",
              "      <td>8025</td>\n",
              "    </tr>\n",
              "  </tbody>\n",
              "</table>\n",
              "</div>"
            ],
            "text/plain": [
              "   movieId  counts\n",
              "0        5   10950\n",
              "1       19   18877\n",
              "2       21   21690\n",
              "3       41    4223\n",
              "4       45    8025"
            ]
          },
          "metadata": {
            "tags": []
          },
          "execution_count": 155
        }
      ]
    },
    {
      "cell_type": "code",
      "metadata": {
        "id": "2Z06WbL3zFG2",
        "colab_type": "code",
        "colab": {}
      },
      "source": [
        "recommended_movie_counts = movie_counts.merge(pd_movies_2,on ='movieId')"
      ],
      "execution_count": 0,
      "outputs": []
    },
    {
      "cell_type": "code",
      "metadata": {
        "id": "p_-qNGwdz5Sb",
        "colab_type": "code",
        "outputId": "932eda0d-57de-4432-d41e-e0d3fdfb659d",
        "colab": {
          "base_uri": "https://localhost:8080/",
          "height": 183
        }
      },
      "source": [
        "recommended_movie_counts['counts'].describe()"
      ],
      "execution_count": 0,
      "outputs": [
        {
          "output_type": "execute_result",
          "data": {
            "text/plain": [
              "count      161.000000\n",
              "mean      3985.534161\n",
              "std       8431.191864\n",
              "min          1.000000\n",
              "25%          6.000000\n",
              "50%         50.000000\n",
              "75%       3306.000000\n",
              "max      47120.000000\n",
              "Name: counts, dtype: float64"
            ]
          },
          "metadata": {
            "tags": []
          },
          "execution_count": 160
        }
      ]
    },
    {
      "cell_type": "markdown",
      "metadata": {
        "id": "yYKx0qny2X4t",
        "colab_type": "text"
      },
      "source": [
        "### Looking at the data distribution, we see that movies in all ranges of movie counts are being predicted by the model (25% of the recommended movies has between 1 and 6 ratings, 25% between 6 and 50 ratings, 25% between 50 and 3306 ratings and 25% of the recommended movies have above 3306 ratings. Thus, the model is able to recommend movies with low and high number of ratings, which is what we hoped to build."
      ]
    },
    {
      "cell_type": "markdown",
      "metadata": {
        "id": "OGGRM4YTAVBv",
        "colab_type": "text"
      },
      "source": [
        "## We want to see how our model increases with increasing the sample size (we will consider a sample of 1500 movie, a sample of 2000 movies, a sample of 5000 movies and measure r2 and mae for these sample sizes)"
      ]
    },
    {
      "cell_type": "code",
      "metadata": {
        "id": "HXGNi6EV_88G",
        "colab_type": "code",
        "outputId": "4e8f152e-7f83-4328-e949-f9b11a7ed3c4",
        "colab": {
          "base_uri": "https://localhost:8080/",
          "height": 54
        }
      },
      "source": [
        "sampled_ratings_2 =  spark.read.csv('data/final_sample_2.csv',sep=',', inferSchema = True, header = True)\n",
        "(training_2, test_2) = sampled_ratings_2.randomSplit([0.8, 0.2])\n",
        "\n",
        "als_2 = ALS(maxIter=5, regParam=0.2, rank = 10, userCol=\"userId\", itemCol=\"movieId\", ratingCol=\"rating\",coldStartStrategy=\"drop\", nonnegative=True)\n",
        "model_2 = als_2.fit(training_2)\n",
        "\n",
        "# Evaluate the model by computing the R2 on the test data\n",
        "predictions_2 = model_2.transform(test_2)\n",
        "evaluator_2 = RegressionEvaluator(metricName=\"r2\", labelCol=\"rating\",\n",
        "                                predictionCol=\"prediction\")\n",
        "evaluator_3 = RegressionEvaluator(metricName=\"mae\", labelCol=\"rating\",\n",
        "                                predictionCol=\"prediction\")\n",
        "\n",
        "r2_2 = evaluator_2.evaluate(predictions_2)\n",
        "mae_2 =  evaluator_3.evaluate(predictions_2)\n",
        "\n",
        "print(\"R2 = \" + str(r2_2))\n",
        "print(\"MAE = \" + str(mae_2))"
      ],
      "execution_count": 0,
      "outputs": [
        {
          "output_type": "stream",
          "text": [
            "R2 = 0.29702558855314676\n",
            "MAE = 0.6772190784536676\n"
          ],
          "name": "stdout"
        }
      ]
    },
    {
      "cell_type": "code",
      "metadata": {
        "id": "Keygk0z4Cc6Z",
        "colab_type": "code",
        "outputId": "801dc278-a2b5-40f5-e52f-fc9df5fd1918",
        "colab": {
          "base_uri": "https://localhost:8080/",
          "height": 54
        }
      },
      "source": [
        "sampled_ratings_3 =  spark.read.csv('data/final_sample_3.csv',sep=',', inferSchema = True, header = True)\n",
        "(training_3, test_3) = sampled_ratings_3.randomSplit([0.8, 0.2])\n",
        "\n",
        "als_3 = ALS(maxIter=5, regParam=0.2, rank = 10, userCol=\"userId\", itemCol=\"movieId\", ratingCol=\"rating\",coldStartStrategy=\"drop\", nonnegative=True)\n",
        "model_3 = als_3.fit(training_3)\n",
        "\n",
        "# Evaluate the model by computing the R2 on the test data\n",
        "predictions_3 = model_2.transform(test_3)\n",
        "evaluator_4 = RegressionEvaluator(metricName=\"r2\", labelCol=\"rating\",\n",
        "                                predictionCol=\"prediction\")\n",
        "evaluator_5 = RegressionEvaluator(metricName=\"mae\", labelCol=\"rating\",\n",
        "                                predictionCol=\"prediction\")\n",
        "\n",
        "r2_3 = evaluator_4.evaluate(predictions_3)\n",
        "mae_3 =  evaluator_5.evaluate(predictions_3)\n",
        "\n",
        "print(\"R2 = \" + str(r2_3))\n",
        "print(\"MAE = \" + str(mae_3))"
      ],
      "execution_count": 0,
      "outputs": [
        {
          "output_type": "stream",
          "text": [
            "R2 = 0.38234772970048203\n",
            "MAE = 0.6367361311418589\n"
          ],
          "name": "stdout"
        }
      ]
    },
    {
      "cell_type": "code",
      "metadata": {
        "id": "-ieXdXZ-EBns",
        "colab_type": "code",
        "outputId": "88f32658-ebd9-4bba-e5e6-04df7affdd95",
        "colab": {
          "base_uri": "https://localhost:8080/",
          "height": 54
        }
      },
      "source": [
        "sampled_ratings_4 =  spark.read.csv('data/final_sample_4.csv',sep=',', inferSchema = True, header = True)\n",
        "(training_4, test_4) = sampled_ratings_4.randomSplit([0.8, 0.2])\n",
        "\n",
        "als_4 = ALS(maxIter=5, regParam=0.2, rank = 10, userCol=\"userId\", itemCol=\"movieId\", ratingCol=\"rating\",coldStartStrategy=\"drop\", nonnegative=True)\n",
        "model_4 = als_4.fit(training_4)\n",
        "\n",
        "# Evaluate the model by computing the R2 on the test data\n",
        "predictions_4 = model_4.transform(test_4)\n",
        "evaluator_6 = RegressionEvaluator(metricName=\"r2\", labelCol=\"rating\",\n",
        "                                predictionCol=\"prediction\")\n",
        "evaluator_7 = RegressionEvaluator(metricName=\"mae\", labelCol=\"rating\",\n",
        "                                predictionCol=\"prediction\")\n",
        "\n",
        "r2_4 = evaluator_6.evaluate(predictions_4)\n",
        "mae_4 =  evaluator_7.evaluate(predictions_4)\n",
        "\n",
        "print(\"R2 = \" + str(r2_4))\n",
        "print(\"MAE = \" + str(mae_4))"
      ],
      "execution_count": 0,
      "outputs": [
        {
          "output_type": "stream",
          "text": [
            "R2 = 0.3230222399361311\n",
            "MAE = 0.6664716692287066\n"
          ],
          "name": "stdout"
        }
      ]
    },
    {
      "cell_type": "markdown",
      "metadata": {
        "id": "RxngE2R2b6Dq",
        "colab_type": "text"
      },
      "source": [
        "### Increasing the sample size does improve the goodness of fit and mean absolute error when the sample size is increased from 1000 to 2000 and 2500 movies, although the metrics do become poorer (still better than the samples of size 1000 and 2000) when the sample size is made much larger (5000 movies)."
      ]
    },
    {
      "cell_type": "markdown",
      "metadata": {
        "id": "LsNDfXw7WWcw",
        "colab_type": "text"
      },
      "source": [
        "### We also noticed that increasing the sample size did not increase the run time by too much, with the original 1000 movies sample taking 4 minutes to run while the 5000 movies sample took around 7 minutes to run."
      ]
    },
    {
      "cell_type": "markdown",
      "metadata": {
        "id": "MtvA6jeabGO3",
        "colab_type": "text"
      },
      "source": [
        "## From the original sample of ratings for 1000 movies, we will add a business rule where for each user, we will take the top 2 genre counts of all the movies they have rated 3.5 and above and randomly recommend 3 movies (which have lesser than 500 ratings and have an average rating of 3+) from those 2 genres. Thus, we want to improve our discovery and coverage by recommending movies that have high average ratings but low number of ratings to users. This not only exposes those movies but will also hopefully be watched by more users now, thus giving us a better training set in the future where these movies have high number of ratings."
      ]
    },
    {
      "cell_type": "code",
      "metadata": {
        "id": "0V9S7_zz4ko0",
        "colab_type": "code",
        "colab": {}
      },
      "source": [
        "sampled_pd = sampled_ratings.toPandas()"
      ],
      "execution_count": 0,
      "outputs": []
    },
    {
      "cell_type": "code",
      "metadata": {
        "id": "I1Nd-klze4d3",
        "colab_type": "code",
        "colab": {}
      },
      "source": [
        "#Get only those ratings for each user which have a rating above 3.5\n",
        "sampled_pd_subset = sampled_pd[sampled_pd.rating >= 3.5]"
      ],
      "execution_count": 0,
      "outputs": []
    },
    {
      "cell_type": "code",
      "metadata": {
        "id": "lYl2FflFgWlX",
        "colab_type": "code",
        "colab": {}
      },
      "source": [
        "#Get the dataframe containing all movies to genres combinations\n",
        "movies1_pd = movies1.drop('title').toPandas()"
      ],
      "execution_count": 0,
      "outputs": []
    },
    {
      "cell_type": "code",
      "metadata": {
        "id": "ylH_Nundggur",
        "colab_type": "code",
        "colab": {}
      },
      "source": [
        "#Merge these genres back to the users\n",
        "merged_sample = sampled_pd_subset.merge(movies1_pd,on=\"movieId\")"
      ],
      "execution_count": 0,
      "outputs": []
    },
    {
      "cell_type": "code",
      "metadata": {
        "id": "0eErrjsOgaWb",
        "colab_type": "code",
        "outputId": "319f0fec-2070-4120-d41e-081cdfd85f7d",
        "colab": {
          "base_uri": "https://localhost:8080/",
          "height": 206
        }
      },
      "source": [
        "merged_sample.head()"
      ],
      "execution_count": 0,
      "outputs": [
        {
          "output_type": "execute_result",
          "data": {
            "text/html": [
              "<div>\n",
              "<style scoped>\n",
              "    .dataframe tbody tr th:only-of-type {\n",
              "        vertical-align: middle;\n",
              "    }\n",
              "\n",
              "    .dataframe tbody tr th {\n",
              "        vertical-align: top;\n",
              "    }\n",
              "\n",
              "    .dataframe thead th {\n",
              "        text-align: right;\n",
              "    }\n",
              "</style>\n",
              "<table border=\"1\" class=\"dataframe\">\n",
              "  <thead>\n",
              "    <tr style=\"text-align: right;\">\n",
              "      <th></th>\n",
              "      <th>userId</th>\n",
              "      <th>movieId</th>\n",
              "      <th>rating</th>\n",
              "      <th>timestamp</th>\n",
              "      <th>rating_counts</th>\n",
              "      <th>bin</th>\n",
              "      <th>title</th>\n",
              "      <th>genres</th>\n",
              "    </tr>\n",
              "  </thead>\n",
              "  <tbody>\n",
              "    <tr>\n",
              "      <th>0</th>\n",
              "      <td>1</td>\n",
              "      <td>223</td>\n",
              "      <td>4.0</td>\n",
              "      <td>1112485573</td>\n",
              "      <td>21371</td>\n",
              "      <td>5</td>\n",
              "      <td>Clerks (1994)</td>\n",
              "      <td>Comedy</td>\n",
              "    </tr>\n",
              "    <tr>\n",
              "      <th>1</th>\n",
              "      <td>23</td>\n",
              "      <td>223</td>\n",
              "      <td>5.0</td>\n",
              "      <td>914457912</td>\n",
              "      <td>21371</td>\n",
              "      <td>5</td>\n",
              "      <td>Clerks (1994)</td>\n",
              "      <td>Comedy</td>\n",
              "    </tr>\n",
              "    <tr>\n",
              "      <th>2</th>\n",
              "      <td>24</td>\n",
              "      <td>223</td>\n",
              "      <td>5.0</td>\n",
              "      <td>993973215</td>\n",
              "      <td>21371</td>\n",
              "      <td>5</td>\n",
              "      <td>Clerks (1994)</td>\n",
              "      <td>Comedy</td>\n",
              "    </tr>\n",
              "    <tr>\n",
              "      <th>3</th>\n",
              "      <td>25</td>\n",
              "      <td>223</td>\n",
              "      <td>4.5</td>\n",
              "      <td>1277963771</td>\n",
              "      <td>21371</td>\n",
              "      <td>5</td>\n",
              "      <td>Clerks (1994)</td>\n",
              "      <td>Comedy</td>\n",
              "    </tr>\n",
              "    <tr>\n",
              "      <th>4</th>\n",
              "      <td>46</td>\n",
              "      <td>223</td>\n",
              "      <td>5.0</td>\n",
              "      <td>846354925</td>\n",
              "      <td>21371</td>\n",
              "      <td>5</td>\n",
              "      <td>Clerks (1994)</td>\n",
              "      <td>Comedy</td>\n",
              "    </tr>\n",
              "  </tbody>\n",
              "</table>\n",
              "</div>"
            ],
            "text/plain": [
              "   userId  movieId  rating  ...  bin          title  genres\n",
              "0       1      223     4.0  ...    5  Clerks (1994)  Comedy\n",
              "1      23      223     5.0  ...    5  Clerks (1994)  Comedy\n",
              "2      24      223     5.0  ...    5  Clerks (1994)  Comedy\n",
              "3      25      223     4.5  ...    5  Clerks (1994)  Comedy\n",
              "4      46      223     5.0  ...    5  Clerks (1994)  Comedy\n",
              "\n",
              "[5 rows x 8 columns]"
            ]
          },
          "metadata": {
            "tags": []
          },
          "execution_count": 164
        }
      ]
    },
    {
      "cell_type": "code",
      "metadata": {
        "id": "ucY5AwaFg46A",
        "colab_type": "code",
        "outputId": "97cda61e-c972-4d09-b0ec-cb4ba8c774db",
        "colab": {
          "base_uri": "https://localhost:8080/",
          "height": 206
        }
      },
      "source": [
        "#Get a count of the number of times each user watched a movie of a particular genre.\n",
        "users_genres = merged_sample.loc[:,['userId','genres']]\n",
        "users_genres = users_genres.groupby(['userId','genres']).size().reset_index(name='count')\n",
        "users_genres.head()"
      ],
      "execution_count": 0,
      "outputs": [
        {
          "output_type": "execute_result",
          "data": {
            "text/html": [
              "<div>\n",
              "<style scoped>\n",
              "    .dataframe tbody tr th:only-of-type {\n",
              "        vertical-align: middle;\n",
              "    }\n",
              "\n",
              "    .dataframe tbody tr th {\n",
              "        vertical-align: top;\n",
              "    }\n",
              "\n",
              "    .dataframe thead th {\n",
              "        text-align: right;\n",
              "    }\n",
              "</style>\n",
              "<table border=\"1\" class=\"dataframe\">\n",
              "  <thead>\n",
              "    <tr style=\"text-align: right;\">\n",
              "      <th></th>\n",
              "      <th>userId</th>\n",
              "      <th>genres</th>\n",
              "      <th>count</th>\n",
              "    </tr>\n",
              "  </thead>\n",
              "  <tbody>\n",
              "    <tr>\n",
              "      <th>0</th>\n",
              "      <td>1</td>\n",
              "      <td>Action</td>\n",
              "      <td>11</td>\n",
              "    </tr>\n",
              "    <tr>\n",
              "      <th>1</th>\n",
              "      <td>1</td>\n",
              "      <td>Adventure</td>\n",
              "      <td>11</td>\n",
              "    </tr>\n",
              "    <tr>\n",
              "      <th>2</th>\n",
              "      <td>1</td>\n",
              "      <td>Animation</td>\n",
              "      <td>1</td>\n",
              "    </tr>\n",
              "    <tr>\n",
              "      <th>3</th>\n",
              "      <td>1</td>\n",
              "      <td>Children</td>\n",
              "      <td>1</td>\n",
              "    </tr>\n",
              "    <tr>\n",
              "      <th>4</th>\n",
              "      <td>1</td>\n",
              "      <td>Comedy</td>\n",
              "      <td>6</td>\n",
              "    </tr>\n",
              "  </tbody>\n",
              "</table>\n",
              "</div>"
            ],
            "text/plain": [
              "   userId     genres  count\n",
              "0       1     Action     11\n",
              "1       1  Adventure     11\n",
              "2       1  Animation      1\n",
              "3       1   Children      1\n",
              "4       1     Comedy      6"
            ]
          },
          "metadata": {
            "tags": []
          },
          "execution_count": 165
        }
      ]
    },
    {
      "cell_type": "code",
      "metadata": {
        "id": "oxi-WhXSkAIC",
        "colab_type": "code",
        "colab": {}
      },
      "source": [
        "users_genres['count'] = pd.to_numeric(users_genres['count'])"
      ],
      "execution_count": 0,
      "outputs": []
    },
    {
      "cell_type": "code",
      "metadata": {
        "id": "AYGwNSZHkrOj",
        "colab_type": "code",
        "outputId": "bdc2d48a-9153-4978-a776-0f35d9f1e973",
        "colab": {
          "base_uri": "https://localhost:8080/",
          "height": 206
        }
      },
      "source": [
        "#Sort the genre counts for each user in descending order\n",
        "users_genres_sort = users_genres.sort_values(by=['userId','count'],ascending=[True,False])\n",
        "users_genres_sort.head()"
      ],
      "execution_count": 0,
      "outputs": [
        {
          "output_type": "execute_result",
          "data": {
            "text/html": [
              "<div>\n",
              "<style scoped>\n",
              "    .dataframe tbody tr th:only-of-type {\n",
              "        vertical-align: middle;\n",
              "    }\n",
              "\n",
              "    .dataframe tbody tr th {\n",
              "        vertical-align: top;\n",
              "    }\n",
              "\n",
              "    .dataframe thead th {\n",
              "        text-align: right;\n",
              "    }\n",
              "</style>\n",
              "<table border=\"1\" class=\"dataframe\">\n",
              "  <thead>\n",
              "    <tr style=\"text-align: right;\">\n",
              "      <th></th>\n",
              "      <th>userId</th>\n",
              "      <th>genres</th>\n",
              "      <th>count</th>\n",
              "    </tr>\n",
              "  </thead>\n",
              "  <tbody>\n",
              "    <tr>\n",
              "      <th>0</th>\n",
              "      <td>1</td>\n",
              "      <td>Action</td>\n",
              "      <td>11</td>\n",
              "    </tr>\n",
              "    <tr>\n",
              "      <th>1</th>\n",
              "      <td>1</td>\n",
              "      <td>Adventure</td>\n",
              "      <td>11</td>\n",
              "    </tr>\n",
              "    <tr>\n",
              "      <th>7</th>\n",
              "      <td>1</td>\n",
              "      <td>Fantasy</td>\n",
              "      <td>10</td>\n",
              "    </tr>\n",
              "    <tr>\n",
              "      <th>4</th>\n",
              "      <td>1</td>\n",
              "      <td>Comedy</td>\n",
              "      <td>6</td>\n",
              "    </tr>\n",
              "    <tr>\n",
              "      <th>6</th>\n",
              "      <td>1</td>\n",
              "      <td>Drama</td>\n",
              "      <td>6</td>\n",
              "    </tr>\n",
              "  </tbody>\n",
              "</table>\n",
              "</div>"
            ],
            "text/plain": [
              "   userId     genres  count\n",
              "0       1     Action     11\n",
              "1       1  Adventure     11\n",
              "7       1    Fantasy     10\n",
              "4       1     Comedy      6\n",
              "6       1      Drama      6"
            ]
          },
          "metadata": {
            "tags": []
          },
          "execution_count": 167
        }
      ]
    },
    {
      "cell_type": "code",
      "metadata": {
        "id": "dck4W1jmf0MC",
        "colab_type": "code",
        "outputId": "b34b0f01-0c67-4c14-ab7c-e68ad81fa603",
        "colab": {
          "base_uri": "https://localhost:8080/",
          "height": 206
        }
      },
      "source": [
        "#Pick top 2 genres watched by each user\n",
        "users_genres_sub = users_genres_sort.groupby(['userId']).head(2).reset_index(drop=True)\n",
        "users_genres_sub_1 = users_genres_sub.drop(['count'],axis = 1)\n",
        "users_genres_sub_1.head()"
      ],
      "execution_count": 0,
      "outputs": [
        {
          "output_type": "execute_result",
          "data": {
            "text/html": [
              "<div>\n",
              "<style scoped>\n",
              "    .dataframe tbody tr th:only-of-type {\n",
              "        vertical-align: middle;\n",
              "    }\n",
              "\n",
              "    .dataframe tbody tr th {\n",
              "        vertical-align: top;\n",
              "    }\n",
              "\n",
              "    .dataframe thead th {\n",
              "        text-align: right;\n",
              "    }\n",
              "</style>\n",
              "<table border=\"1\" class=\"dataframe\">\n",
              "  <thead>\n",
              "    <tr style=\"text-align: right;\">\n",
              "      <th></th>\n",
              "      <th>userId</th>\n",
              "      <th>genres</th>\n",
              "    </tr>\n",
              "  </thead>\n",
              "  <tbody>\n",
              "    <tr>\n",
              "      <th>0</th>\n",
              "      <td>1</td>\n",
              "      <td>Action</td>\n",
              "    </tr>\n",
              "    <tr>\n",
              "      <th>1</th>\n",
              "      <td>1</td>\n",
              "      <td>Adventure</td>\n",
              "    </tr>\n",
              "    <tr>\n",
              "      <th>2</th>\n",
              "      <td>2</td>\n",
              "      <td>Action</td>\n",
              "    </tr>\n",
              "    <tr>\n",
              "      <th>3</th>\n",
              "      <td>2</td>\n",
              "      <td>Drama</td>\n",
              "    </tr>\n",
              "    <tr>\n",
              "      <th>4</th>\n",
              "      <td>3</td>\n",
              "      <td>Action</td>\n",
              "    </tr>\n",
              "  </tbody>\n",
              "</table>\n",
              "</div>"
            ],
            "text/plain": [
              "   userId     genres\n",
              "0       1     Action\n",
              "1       1  Adventure\n",
              "2       2     Action\n",
              "3       2      Drama\n",
              "4       3     Action"
            ]
          },
          "metadata": {
            "tags": []
          },
          "execution_count": 168
        }
      ]
    },
    {
      "cell_type": "code",
      "metadata": {
        "id": "SKAGqLN-dtlX",
        "colab_type": "code",
        "outputId": "cf657c50-c253-4198-9130-1090e523967b",
        "colab": {
          "base_uri": "https://localhost:8080/",
          "height": 238
        }
      },
      "source": [
        "#Select only movies which have lower than 500 ratings and have a rating above 3\n",
        "movies_groups = sampled_pd.groupby('movieId')['rating'].agg(['count','mean'])\n",
        "movies_subset = movies_groups[movies_groups['count'] <= 500]\n",
        "movies_subset = movies_subset[movies_subset['mean']>=3]\n",
        "movies_subset.head()"
      ],
      "execution_count": 0,
      "outputs": [
        {
          "output_type": "execute_result",
          "data": {
            "text/html": [
              "<div>\n",
              "<style scoped>\n",
              "    .dataframe tbody tr th:only-of-type {\n",
              "        vertical-align: middle;\n",
              "    }\n",
              "\n",
              "    .dataframe tbody tr th {\n",
              "        vertical-align: top;\n",
              "    }\n",
              "\n",
              "    .dataframe thead th {\n",
              "        text-align: right;\n",
              "    }\n",
              "</style>\n",
              "<table border=\"1\" class=\"dataframe\">\n",
              "  <thead>\n",
              "    <tr style=\"text-align: right;\">\n",
              "      <th></th>\n",
              "      <th>count</th>\n",
              "      <th>mean</th>\n",
              "    </tr>\n",
              "    <tr>\n",
              "      <th>movieId</th>\n",
              "      <th></th>\n",
              "      <th></th>\n",
              "    </tr>\n",
              "  </thead>\n",
              "  <tbody>\n",
              "    <tr>\n",
              "      <th>59</th>\n",
              "      <td>170</td>\n",
              "      <td>3.535294</td>\n",
              "    </tr>\n",
              "    <tr>\n",
              "      <th>124</th>\n",
              "      <td>294</td>\n",
              "      <td>3.527211</td>\n",
              "    </tr>\n",
              "    <tr>\n",
              "      <th>394</th>\n",
              "      <td>118</td>\n",
              "      <td>3.330508</td>\n",
              "    </tr>\n",
              "    <tr>\n",
              "      <th>659</th>\n",
              "      <td>382</td>\n",
              "      <td>3.678010</td>\n",
              "    </tr>\n",
              "    <tr>\n",
              "      <th>746</th>\n",
              "      <td>281</td>\n",
              "      <td>3.779359</td>\n",
              "    </tr>\n",
              "  </tbody>\n",
              "</table>\n",
              "</div>"
            ],
            "text/plain": [
              "         count      mean\n",
              "movieId                 \n",
              "59         170  3.535294\n",
              "124        294  3.527211\n",
              "394        118  3.330508\n",
              "659        382  3.678010\n",
              "746        281  3.779359"
            ]
          },
          "metadata": {
            "tags": []
          },
          "execution_count": 169
        }
      ]
    },
    {
      "cell_type": "code",
      "metadata": {
        "id": "JQb3iU6urAOk",
        "colab_type": "code",
        "outputId": "b707ba29-53aa-45e9-c141-63b019b2377c",
        "colab": {
          "base_uri": "https://localhost:8080/",
          "height": 206
        }
      },
      "source": [
        "#Map these movies to their genres\n",
        "movies_subset_1 = movies_subset.merge(movies1_pd,on='movieId')\n",
        "movies_subset_2 = movies_subset_1.loc[:,['movieId','genres']]\n",
        "movies_subset_2.head()"
      ],
      "execution_count": 0,
      "outputs": [
        {
          "output_type": "execute_result",
          "data": {
            "text/html": [
              "<div>\n",
              "<style scoped>\n",
              "    .dataframe tbody tr th:only-of-type {\n",
              "        vertical-align: middle;\n",
              "    }\n",
              "\n",
              "    .dataframe tbody tr th {\n",
              "        vertical-align: top;\n",
              "    }\n",
              "\n",
              "    .dataframe thead th {\n",
              "        text-align: right;\n",
              "    }\n",
              "</style>\n",
              "<table border=\"1\" class=\"dataframe\">\n",
              "  <thead>\n",
              "    <tr style=\"text-align: right;\">\n",
              "      <th></th>\n",
              "      <th>movieId</th>\n",
              "      <th>genres</th>\n",
              "    </tr>\n",
              "  </thead>\n",
              "  <tbody>\n",
              "    <tr>\n",
              "      <th>0</th>\n",
              "      <td>59</td>\n",
              "      <td>Drama</td>\n",
              "    </tr>\n",
              "    <tr>\n",
              "      <th>1</th>\n",
              "      <td>59</td>\n",
              "      <td>Mystery</td>\n",
              "    </tr>\n",
              "    <tr>\n",
              "      <th>2</th>\n",
              "      <td>124</td>\n",
              "      <td>Drama</td>\n",
              "    </tr>\n",
              "    <tr>\n",
              "      <th>3</th>\n",
              "      <td>394</td>\n",
              "      <td>Comedy</td>\n",
              "    </tr>\n",
              "    <tr>\n",
              "      <th>4</th>\n",
              "      <td>659</td>\n",
              "      <td>Crime</td>\n",
              "    </tr>\n",
              "  </tbody>\n",
              "</table>\n",
              "</div>"
            ],
            "text/plain": [
              "   movieId   genres\n",
              "0       59    Drama\n",
              "1       59  Mystery\n",
              "2      124    Drama\n",
              "3      394   Comedy\n",
              "4      659    Crime"
            ]
          },
          "metadata": {
            "tags": []
          },
          "execution_count": 170
        }
      ]
    },
    {
      "cell_type": "code",
      "metadata": {
        "id": "7xaurwk_pWjO",
        "colab_type": "code",
        "outputId": "ceecc2df-7b3e-4c73-b07a-e8fc13c2273b",
        "colab": {
          "base_uri": "https://localhost:8080/",
          "height": 206
        }
      },
      "source": [
        "#Merge with the users to get all movies for the top 2 genres watched by a user.\n",
        "merged = movies_subset_2.merge(users_genres_sub_1,on=\"genres\")\n",
        "merged.head()"
      ],
      "execution_count": 0,
      "outputs": [
        {
          "output_type": "execute_result",
          "data": {
            "text/html": [
              "<div>\n",
              "<style scoped>\n",
              "    .dataframe tbody tr th:only-of-type {\n",
              "        vertical-align: middle;\n",
              "    }\n",
              "\n",
              "    .dataframe tbody tr th {\n",
              "        vertical-align: top;\n",
              "    }\n",
              "\n",
              "    .dataframe thead th {\n",
              "        text-align: right;\n",
              "    }\n",
              "</style>\n",
              "<table border=\"1\" class=\"dataframe\">\n",
              "  <thead>\n",
              "    <tr style=\"text-align: right;\">\n",
              "      <th></th>\n",
              "      <th>movieId</th>\n",
              "      <th>genres</th>\n",
              "      <th>userId</th>\n",
              "    </tr>\n",
              "  </thead>\n",
              "  <tbody>\n",
              "    <tr>\n",
              "      <th>0</th>\n",
              "      <td>59</td>\n",
              "      <td>Drama</td>\n",
              "      <td>2</td>\n",
              "    </tr>\n",
              "    <tr>\n",
              "      <th>1</th>\n",
              "      <td>59</td>\n",
              "      <td>Drama</td>\n",
              "      <td>5</td>\n",
              "    </tr>\n",
              "    <tr>\n",
              "      <th>2</th>\n",
              "      <td>59</td>\n",
              "      <td>Drama</td>\n",
              "      <td>6</td>\n",
              "    </tr>\n",
              "    <tr>\n",
              "      <th>3</th>\n",
              "      <td>59</td>\n",
              "      <td>Drama</td>\n",
              "      <td>7</td>\n",
              "    </tr>\n",
              "    <tr>\n",
              "      <th>4</th>\n",
              "      <td>59</td>\n",
              "      <td>Drama</td>\n",
              "      <td>8</td>\n",
              "    </tr>\n",
              "  </tbody>\n",
              "</table>\n",
              "</div>"
            ],
            "text/plain": [
              "   movieId genres  userId\n",
              "0       59  Drama       2\n",
              "1       59  Drama       5\n",
              "2       59  Drama       6\n",
              "3       59  Drama       7\n",
              "4       59  Drama       8"
            ]
          },
          "metadata": {
            "tags": []
          },
          "execution_count": 171
        }
      ]
    },
    {
      "cell_type": "code",
      "metadata": {
        "id": "uOsbqYzgsnmP",
        "colab_type": "code",
        "outputId": "fd4217a5-d006-4d0f-e4a9-1effa967910a",
        "colab": {
          "base_uri": "https://localhost:8080/",
          "height": 206
        }
      },
      "source": [
        "#Shuffle the data and select 3 movies to recommend to every user\n",
        "merged = merged.sample(frac=1)\n",
        "business_rec = merged.groupby(['userId']).head(3).reset_index(drop=True)\n",
        "business_rec = business_rec.loc[:,['userId','movieId']]\n",
        "business_rec.head()"
      ],
      "execution_count": 0,
      "outputs": [
        {
          "output_type": "execute_result",
          "data": {
            "text/html": [
              "<div>\n",
              "<style scoped>\n",
              "    .dataframe tbody tr th:only-of-type {\n",
              "        vertical-align: middle;\n",
              "    }\n",
              "\n",
              "    .dataframe tbody tr th {\n",
              "        vertical-align: top;\n",
              "    }\n",
              "\n",
              "    .dataframe thead th {\n",
              "        text-align: right;\n",
              "    }\n",
              "</style>\n",
              "<table border=\"1\" class=\"dataframe\">\n",
              "  <thead>\n",
              "    <tr style=\"text-align: right;\">\n",
              "      <th></th>\n",
              "      <th>userId</th>\n",
              "      <th>movieId</th>\n",
              "    </tr>\n",
              "  </thead>\n",
              "  <tbody>\n",
              "    <tr>\n",
              "      <th>0</th>\n",
              "      <td>31119</td>\n",
              "      <td>104451</td>\n",
              "    </tr>\n",
              "    <tr>\n",
              "      <th>1</th>\n",
              "      <td>84421</td>\n",
              "      <td>91531</td>\n",
              "    </tr>\n",
              "    <tr>\n",
              "      <th>2</th>\n",
              "      <td>90933</td>\n",
              "      <td>40959</td>\n",
              "    </tr>\n",
              "    <tr>\n",
              "      <th>3</th>\n",
              "      <td>53230</td>\n",
              "      <td>5124</td>\n",
              "    </tr>\n",
              "    <tr>\n",
              "      <th>4</th>\n",
              "      <td>61606</td>\n",
              "      <td>115174</td>\n",
              "    </tr>\n",
              "  </tbody>\n",
              "</table>\n",
              "</div>"
            ],
            "text/plain": [
              "   userId  movieId\n",
              "0   31119   104451\n",
              "1   84421    91531\n",
              "2   90933    40959\n",
              "3   53230     5124\n",
              "4   61606   115174"
            ]
          },
          "metadata": {
            "tags": []
          },
          "execution_count": 173
        }
      ]
    },
    {
      "cell_type": "code",
      "metadata": {
        "id": "Nl_9GOas3iBw",
        "colab_type": "code",
        "outputId": "167cd418-1d02-496a-f103-794a551c7acc",
        "colab": {
          "base_uri": "https://localhost:8080/",
          "height": 498
        }
      },
      "source": [
        "business_rec_spark = spark.createDataFrame(business_rec)\n",
        "business_rec_spark.show(truncate=False)"
      ],
      "execution_count": 0,
      "outputs": [
        {
          "output_type": "stream",
          "text": [
            "+------+-------+\n",
            "|userId|movieId|\n",
            "+------+-------+\n",
            "|31119 |104451 |\n",
            "|84421 |91531  |\n",
            "|90933 |40959  |\n",
            "|53230 |5124   |\n",
            "|61606 |115174 |\n",
            "|130141|78585  |\n",
            "|122564|4670   |\n",
            "|40547 |78583  |\n",
            "|22068 |56570  |\n",
            "|107351|103840 |\n",
            "|76288 |54771  |\n",
            "|83656 |79213  |\n",
            "|3573  |115877 |\n",
            "|17590 |26236  |\n",
            "|26443 |115210 |\n",
            "|100582|108979 |\n",
            "|22549 |65562  |\n",
            "|71163 |32797  |\n",
            "|24018 |4076   |\n",
            "|13088 |94503  |\n",
            "+------+-------+\n",
            "only showing top 20 rows\n",
            "\n"
          ],
          "name": "stdout"
        }
      ]
    },
    {
      "cell_type": "markdown",
      "metadata": {
        "id": "nJW3bK_3306m",
        "colab_type": "text"
      },
      "source": [
        "## We will now compute the modified catalog coverage to see if our business objective of improving catalog coverage has been achieved."
      ]
    },
    {
      "cell_type": "code",
      "metadata": {
        "id": "MsHAwQOO3yCJ",
        "colab_type": "code",
        "colab": {}
      },
      "source": [
        "recommendations_sub = recommendations2.select('userId','movieId')\n",
        "total_recommendations = recommendations_sub.union(business_rec_spark)\n",
        "total_recommendations = total_recommendations.dropDuplicates()"
      ],
      "execution_count": 0,
      "outputs": []
    },
    {
      "cell_type": "code",
      "metadata": {
        "id": "a-yxvY2x4eDz",
        "colab_type": "code",
        "outputId": "cc1038bd-a548-40d3-ce21-e8b4fc798519",
        "colab": {
          "base_uri": "https://localhost:8080/",
          "height": 35
        }
      },
      "source": [
        "total_recommendations1 = total_recommendations.subtract(users_movies)\n",
        "unique_movies_3 = total_recommendations1.select('movieId').dropDuplicates()\n",
        "pd_movies_3 = unique_movies_3.toPandas()\n",
        "print(\"Coverage of unseen movies = \", (len(pd_movies_3)/1000)*100,\"%\")"
      ],
      "execution_count": 0,
      "outputs": [
        {
          "output_type": "stream",
          "text": [
            "Coverage of unseen movies =  46.1 %\n"
          ],
          "name": "stdout"
        }
      ]
    },
    {
      "cell_type": "markdown",
      "metadata": {
        "id": "QE330lT1SQay",
        "colab_type": "text"
      },
      "source": [
        "### We see that our coverage on newly recommended movies increases drastically from 16.1% to 46.1% when we add our business rule."
      ]
    },
    {
      "cell_type": "markdown",
      "metadata": {
        "id": "K8pOaewTcHT5",
        "colab_type": "text"
      },
      "source": [
        "## Finally, we will evaluate our model on an unseen 10% test data."
      ]
    },
    {
      "cell_type": "code",
      "metadata": {
        "id": "akfZJjDDcQJ4",
        "colab_type": "code",
        "colab": {}
      },
      "source": [
        "final_test_ratings =  spark.read.csv('data/ratings_test.csv',sep=',', inferSchema = True, header = True)"
      ],
      "execution_count": 0,
      "outputs": []
    },
    {
      "cell_type": "code",
      "metadata": {
        "id": "OMJV04w8dFpo",
        "colab_type": "code",
        "outputId": "e90d09fb-0561-4efd-dde6-de6799cfbcd5",
        "colab": {
          "base_uri": "https://localhost:8080/",
          "height": 54
        }
      },
      "source": [
        "# Evaluate the model by computing the R2 on the test data\n",
        "predictions_fin = model.transform(final_test_ratings)\n",
        "evaluator_fin = RegressionEvaluator(metricName=\"r2\", labelCol=\"rating\",\n",
        "                                predictionCol=\"prediction\")\n",
        "evaluator_fin_mae = RegressionEvaluator(metricName=\"mae\", labelCol=\"rating\",\n",
        "                                predictionCol=\"prediction\")\n",
        "\n",
        "r2_fin = evaluator_fin.evaluate(predictions_fin)\n",
        "mae_fin =  evaluator_fin_mae.evaluate(predictions_fin)\n",
        "\n",
        "print(\"R2 = \" + str(r2_fin))\n",
        "print(\"MAE = \" + str(mae_fin))"
      ],
      "execution_count": 0,
      "outputs": [
        {
          "output_type": "stream",
          "text": [
            "R2 = 0.2885387217708627\n",
            "MAE = 0.6850313912908458\n"
          ],
          "name": "stdout"
        }
      ]
    },
    {
      "cell_type": "markdown",
      "metadata": {
        "id": "airKXnGldtiR",
        "colab_type": "text"
      },
      "source": [
        "### The R2 = 0.28 and MAE = 0.685 is consistent with the rest of our observations."
      ]
    }
  ]
}